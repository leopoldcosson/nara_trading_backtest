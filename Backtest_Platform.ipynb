{
 "cells": [
  {
   "cell_type": "code",
   "execution_count": 1,
   "metadata": {},
   "outputs": [],
   "source": [
    "# Import necessary libraries\n",
    "import numpy as np\n",
    "import pandas as pd\n",
    "from tqdm import trange\n",
    "from typing import List, Type, Dict, Any\n",
    "import yfinance as yf\n",
    "import copy\n",
    "\n",
    "# Graphing libraries\n",
    "import plotly.express as px\n",
    "import plotly.graph_objs as go\n",
    "from plotly.subplots import make_subplots\n",
    "\n",
    "# Regression analysis\n",
    "import statsmodels.api as sm"
   ]
  },
  {
   "cell_type": "code",
   "execution_count": 2,
   "metadata": {},
   "outputs": [],
   "source": [
    "class Strategy:\n",
    "    def __init__(self, name: str, data: pd.DataFrame):\n",
    "        \"\"\"\n",
    "        Initialize a Strategy instance.\n",
    "\n",
    "        Parameters:\n",
    "        name (str): The name of the strategy.\n",
    "        data (pd.DataFrame): The data to be used by the strategy.\n",
    "        \"\"\"\n",
    "        self.strategy_name = name\n",
    "        self.data = copy.deepcopy(data)\n",
    "\n",
    "    def calculate_signal(self) -> None:\n",
    "        \"\"\"\n",
    "        Calculate the trading signal.\n",
    "\n",
    "        This method should be implemented by subclasses.\n",
    "        \"\"\"\n",
    "        raise NotImplementedError(\"Subclasses should implement this method\")\n",
    "\n",
    "    def calculate_positions(self) -> pd.DataFrame:\n",
    "        \"\"\"\n",
    "        Calculate the trading positions.\n",
    "\n",
    "        This method should be implemented by subclasses.\n",
    "\n",
    "        Returns:\n",
    "        pd.DataFrame: A DataFrame containing the calculated positions.\n",
    "        \"\"\"\n",
    "        raise NotImplementedError(\"Subclasses should implement this method\")"
   ]
  },
  {
   "cell_type": "code",
   "execution_count": 3,
   "metadata": {},
   "outputs": [],
   "source": [
    "class StrategyManager:\n",
    "    def __init__(self, strategies: List[Type[Strategy]]):\n",
    "        \"\"\"\n",
    "        Initialize a StrategyManager instance.\n",
    "\n",
    "        Parameters:\n",
    "        strategies (List[Type[Strategy]]): A list of Strategy instances.\n",
    "        \"\"\"\n",
    "        self.strategies = strategies\n",
    "\n",
    "    def calculate_all_signals(self) -> None:\n",
    "        \"\"\"\n",
    "        Calculate signals for all strategies.\n",
    "        \"\"\"\n",
    "        for strategy in self.strategies:\n",
    "            strategy.calculate_signal()\n",
    "\n",
    "    def calculate_all_positions(self) -> pd.DataFrame:\n",
    "        \"\"\"\n",
    "        Calculate positions for all strategies and combine them into a single DataFrame.\n",
    "\n",
    "        Returns:\n",
    "        pd.DataFrame: A DataFrame containing the combined positions from all strategies.\n",
    "        \"\"\"\n",
    "        all_positions = pd.DataFrame()\n",
    "        for strategy in self.strategies:\n",
    "            positions = strategy.calculate_positions()\n",
    "            all_positions = pd.concat([all_positions, positions], axis=0)\n",
    "\n",
    "        # Drop duplicate columns, keeping the first occurrence\n",
    "        all_positions = all_positions.loc[:, ~all_positions.columns.duplicated()]\n",
    "\n",
    "        return all_positions"
   ]
  },
  {
   "cell_type": "code",
   "execution_count": 4,
   "metadata": {},
   "outputs": [],
   "source": [
    "class Backtest:\n",
    "    def __init__(self, base_data: pd.DataFrame, strategies: List[Type[Strategy]], weights: Dict[str, float] = {}):\n",
    "        \"\"\"\n",
    "        Initialize a Backtest instance.\n",
    "\n",
    "        Parameters:\n",
    "        base_data (pd.DataFrame): The base data to be used for the backtest.\n",
    "        strategies (List[Type[Strategy]]): A list of Strategy instances.\n",
    "        weights (Dict[str, float]): A dictionary of weights for each strategy. Default is equal weight.\n",
    "        \"\"\"\n",
    "        self.base_data = copy.deepcopy(base_data)\n",
    "        self.trades = pd.DataFrame(columns=['time', 'book', 'ticker', 'price', 'units'])\n",
    "        self.positions = pd.DataFrame(columns=['time', 'book', 'ticker', 'units'])\n",
    "        self._generator = self._dataframe_generator()\n",
    "        self.strategy_manager = StrategyManager(strategies)\n",
    "        self.next_positions = pd.DataFrame(columns=['time', 'ticker', 'units'])\n",
    "        self.pnl = pd.DataFrame(columns=['time', 'book', 'ticker', 'pnl'])\n",
    "        self.cumulative_pnl = pd.DataFrame(columns=['time', 'book', 'pnl'])\n",
    "        self.weights = weights if weights else {strategy.strategy_name: 1 for strategy in strategies}\n",
    "        self.run_backtest()\n",
    "\n",
    "    def _dataframe_generator(self) -> pd.DataFrame:\n",
    "        \"\"\"\n",
    "        Generator to yield the base data incrementally.\n",
    "\n",
    "        Yields:\n",
    "        pd.DataFrame: The incremental base data.\n",
    "        \"\"\"\n",
    "        for i in range(1, len(self.base_data) + 1):\n",
    "            yield self.base_data.iloc[:i]\n",
    "\n",
    "    def next(self) -> bool:\n",
    "        \"\"\"\n",
    "        Get the next incremental data.\n",
    "\n",
    "        Returns:\n",
    "        bool: True if there is more data, False otherwise.\n",
    "        \"\"\"\n",
    "        try:\n",
    "            self.data = next(self._generator)\n",
    "            return True\n",
    "        except StopIteration:\n",
    "            return False\n",
    "\n",
    "    def update_pnl(self) -> None:\n",
    "        \"\"\"\n",
    "        Update the PnL based on the latest and penultimate positions.\n",
    "        \"\"\"\n",
    "        if len(self.data) > 1:\n",
    "            latest_date = self.data.index[-1]\n",
    "            penultimate_date = self.data.index[-2]\n",
    "\n",
    "            latest_positions = self.positions[self.positions['time'] == penultimate_date]\n",
    "\n",
    "            for book in latest_positions['book'].unique():\n",
    "                for ticker in latest_positions['ticker'].unique():\n",
    "                    latest_prices = self.data.loc[latest_date, ticker]\n",
    "                    penultimate_prices = self.data.loc[penultimate_date, ticker]\n",
    "                    diff = latest_prices - penultimate_prices\n",
    "\n",
    "                    new_pnl = pd.DataFrame([[latest_date, book, ticker, diff * latest_positions.loc[(latest_positions['ticker'] == ticker) & (latest_positions['book'] == book), 'units'].values[0]]], columns=self.pnl.columns)\n",
    "                    self.pnl = pd.concat([self.pnl, new_pnl], ignore_index=True)\n",
    "\n",
    "    def update_positions_and_trades(self) -> None:\n",
    "        \"\"\"\n",
    "        Update positions and trades based on the latest and penultimate positions.\n",
    "        \"\"\"\n",
    "        if len(self.data) > 2:\n",
    "            latest_date = self.data.index[-1]\n",
    "            penultimate_date = self.data.index[-2]\n",
    "\n",
    "            latest_positions = self.next_positions[self.next_positions['time'] == latest_date]\n",
    "            penultimate_positions = self.positions[self.positions['time'] == penultimate_date]\n",
    "\n",
    "            for index, row in latest_positions.iterrows():\n",
    "                book = row['book']\n",
    "                ticker = row['ticker']\n",
    "                units = row['units']\n",
    "                if not penultimate_positions.empty:\n",
    "                    penultimate_units = penultimate_positions.loc[(penultimate_positions['ticker'] == ticker) & (penultimate_positions['book'] == book), 'units'].values\n",
    "                    if len(penultimate_units) > 0:\n",
    "                        penultimate_units = penultimate_units[0]\n",
    "                    else:\n",
    "                        penultimate_units = 0\n",
    "                else:\n",
    "                    penultimate_units = 0\n",
    "\n",
    "                trade_units = units - penultimate_units\n",
    "                if trade_units != 0:\n",
    "                    trade_price = self.data.loc[latest_date, ticker]\n",
    "                    self.add_trade(latest_date, book, ticker, trade_price, trade_units)\n",
    "\n",
    "                self.update_position(latest_date, book, ticker, units)\n",
    "\n",
    "    def run_strategies(self) -> None:\n",
    "        \"\"\"\n",
    "        Run all strategies to calculate signals and positions.\n",
    "        \"\"\"\n",
    "        self.strategy_manager.calculate_all_signals()\n",
    "        self.next_positions = self.strategy_manager.calculate_all_positions()\n",
    "\n",
    "    def run_backtest(self) -> None:\n",
    "        \"\"\"\n",
    "        Run the backtest.\n",
    "        \"\"\"\n",
    "        while self.next():\n",
    "            self.update_pnl()\n",
    "            self.update_positions_and_trades()\n",
    "            self.run_strategies()\n",
    "\n",
    "        # Format PnL\n",
    "        self.pnl.set_index('time', inplace=True)\n",
    "\n",
    "    def add_trade(self, time: pd.Timestamp, book: str, ticker: str, buy_price: float, units: float) -> None:\n",
    "        \"\"\"\n",
    "        Add a trade to the trades DataFrame.\n",
    "\n",
    "        Parameters:\n",
    "        time (pd.Timestamp): The time of the trade.\n",
    "        book (str): The book of the trade.\n",
    "        ticker (str): The ticker of the trade.\n",
    "        buy_price (float): The price of the trade.\n",
    "        units (float): The units of the trade.\n",
    "        \"\"\"\n",
    "        new_trade = pd.DataFrame([[time, book, ticker, buy_price, units]], columns=self.trades.columns)\n",
    "        self.trades = pd.concat([self.trades, new_trade], ignore_index=True)\n",
    "\n",
    "    def update_position(self, time: pd.Timestamp, book: str, ticker: str, units: float) -> None:\n",
    "        \"\"\"\n",
    "        Update the positions DataFrame.\n",
    "\n",
    "        Parameters:\n",
    "        time (pd.Timestamp): The time of the position.\n",
    "        book (str): The book of the position.\n",
    "        ticker (str): The ticker of the position.\n",
    "        units (float): The units of the position.\n",
    "        \"\"\"\n",
    "        if not ((self.positions['book'] == book) & (self.positions['ticker'] == ticker) & (self.positions['time'] == time)).any():\n",
    "            new_position = pd.DataFrame([[time, book, ticker, units]], columns=self.positions.columns)\n",
    "            self.positions = pd.concat([self.positions, new_position], ignore_index=True)\n",
    "        else:\n",
    "            self.positions.loc[(self.positions['book'] == book) & (self.positions['ticker'] == ticker) & (self.positions['time'] == time), 'units'] = units\n",
    "\n",
    "    def compute_pnl_book(self) -> pd.DataFrame:\n",
    "        \"\"\"\n",
    "        Compute the PnL for each book.\n",
    "\n",
    "        Returns:\n",
    "        pd.DataFrame: The PnL for each book.\n",
    "        \"\"\"\n",
    "        return self.pnl.groupby(['time', 'book'])['pnl'].sum().unstack()\n",
    "\n",
    "    def compute_cumulative_pnl_book(self) -> pd.DataFrame:\n",
    "        \"\"\"\n",
    "        Compute the cumulative PnL for each book.\n",
    "\n",
    "        Returns:\n",
    "        pd.DataFrame: The cumulative PnL for each book.\n",
    "        \"\"\"\n",
    "        return self.pnl.groupby(['time', 'book'])['pnl'].sum().groupby(level=1).cumsum().unstack()\n",
    "\n",
    "    def compute_pnl(self) -> pd.DataFrame:\n",
    "        \"\"\"\n",
    "        Compute the weighted PnL.\n",
    "\n",
    "        Returns:\n",
    "        pd.DataFrame: The weighted PnL.\n",
    "        \"\"\"\n",
    "        pnl = self.pnl.copy()\n",
    "        for book, weight in self.weights.items():\n",
    "            pnl.loc[pnl['book'] == book, 'pnl'] *= weight\n",
    "        return pnl.groupby('time')[['pnl']].sum()\n",
    "\n",
    "    def compute_cumulative_pnl(self) -> pd.DataFrame:\n",
    "        \"\"\"\n",
    "        Compute the cumulative weighted PnL.\n",
    "\n",
    "        Returns:\n",
    "        pd.DataFrame: The cumulative weighted PnL.\n",
    "        \"\"\"\n",
    "        pnl = self.compute_pnl()\n",
    "        return pnl[['pnl']].cumsum()\n",
    "\n",
    "    def export_excel(self, filename: str = \"backtest_results.xlsx\") -> None:\n",
    "        \"\"\"\n",
    "        Export the backtest results to an Excel file.\n",
    "\n",
    "        Parameters:\n",
    "        filename (str): The name of the Excel file.\n",
    "        \"\"\"\n",
    "        with pd.ExcelWriter(filename) as writer:\n",
    "            # Export prices\n",
    "            self.base_data.to_excel(writer, sheet_name='Prices', index=True)\n",
    "\n",
    "            # Export positions\n",
    "            self.positions.to_excel(writer, sheet_name='Positions', index=False)\n",
    "\n",
    "            # Export trades\n",
    "            self.trades.to_excel(writer, sheet_name='Trades', index=False)\n",
    "\n",
    "            # Prepare PnL data\n",
    "            pnl_ticker = self.pnl.pivot_table(index='time', columns='ticker', values='pnl', aggfunc='sum')\n",
    "            pnl_ticker.columns = [f'PnL_{col}' for col in pnl_ticker.columns]\n",
    "            pnl_book = self.compute_pnl_book()\n",
    "            pnl_book.columns = [f'PnL_{col}' for col in pnl_book.columns]\n",
    "            cumulative_pnl_book = self.compute_cumulative_pnl_book()\n",
    "            cumulative_pnl_book.columns = [f'Cumulative_PnL_{col}' for col in cumulative_pnl_book.columns]\n",
    "            cumulative_pnl = self.compute_cumulative_pnl()\n",
    "            cumulative_pnl.columns = ['Cumulative_PnL']\n",
    "\n",
    "            # Write PnL\n",
    "            pnl_df = pnl_ticker.join(pnl_book).join(cumulative_pnl_book).join(cumulative_pnl)\n",
    "            pnl_df.to_excel(writer, sheet_name='PnL')\n",
    "\n",
    "            # Export each strategy\n",
    "            for strategy in self.strategy_manager.strategies:\n",
    "                # Filter positions for the current strategy\n",
    "                book_position = self.positions[self.positions['book'] == strategy.strategy_name].pivot_table(index='time', columns='ticker', values='units', aggfunc='sum')\n",
    "\n",
    "                # Create a copy of the base data with the relevant columns\n",
    "                strategy_sheet = self.base_data.loc[:, self.base_data.columns.isin(book_position.columns.to_list())]\n",
    "\n",
    "                # Join book_position with a suffix\n",
    "                strategy_sheet = strategy_sheet.join(book_position, rsuffix='_Position')\n",
    "\n",
    "                # Join PnL and Cumulative PnL data\n",
    "                strategy_sheet = strategy_sheet.join(pnl_book[[f'PnL_{strategy.strategy_name}']])\n",
    "                strategy_sheet = strategy_sheet.join(cumulative_pnl_book[[f'Cumulative_PnL_{strategy.strategy_name}']])\n",
    "\n",
    "                # Export to Excel\n",
    "                strategy_sheet.to_excel(writer, sheet_name=strategy.strategy_name)\n",
    "\n",
    "        print(f'Backtest results exported to {filename}')"
   ]
  },
  {
   "cell_type": "code",
   "execution_count": 5,
   "metadata": {},
   "outputs": [],
   "source": [
    "class MovingAverageStrategy(Strategy):\n",
    "    def __init__(self, name, data, short_window, long_window):\n",
    "        super().__init__(name, data)\n",
    "        self.short_window = short_window\n",
    "        self.long_window = long_window\n",
    "        self.tickers = data.columns\n",
    "\n",
    "        # Compute moving averages for each ticker\n",
    "        for ticker in self.tickers:\n",
    "            self.data[f'{self.strategy_name}_{ticker}_short_ma'] = self.data[ticker].rolling(window=self.short_window).mean()\n",
    "            self.data[f'{self.strategy_name}_{ticker}_long_ma'] = self.data[ticker].rolling(window=self.long_window).mean()\n",
    "\n",
    "    def calculate_signal(self):\n",
    "        for ticker in self.tickers:\n",
    "            self.data[f'{self.strategy_name}_{ticker}_signal'] = 0.0\n",
    "            self.data[f'{self.strategy_name}_{ticker}_signal'][self.short_window:] = np.where(\n",
    "                self.data[f'{self.strategy_name}_{ticker}_short_ma'][self.short_window:] > self.data[f'{self.strategy_name}_{ticker}_long_ma'][self.short_window:], 1.0, 0.0\n",
    "            )\n",
    "\n",
    "    def calculate_positions(self):\n",
    "        positions_list = []\n",
    "        for ticker in self.tickers:\n",
    "            positions = pd.DataFrame({\n",
    "                'time': self.data.index,\n",
    "                'book': self.strategy_name,\n",
    "                'ticker': ticker,\n",
    "                'units': np.where(self.data[f'{self.strategy_name}_{ticker}_signal'] == 1.0, 10, -10)\n",
    "            })\n",
    "            positions_list.append(positions)\n",
    "        return pd.concat(positions_list)"
   ]
  },
  {
   "cell_type": "code",
   "execution_count": 6,
   "metadata": {},
   "outputs": [
    {
     "name": "stderr",
     "output_type": "stream",
     "text": [
      "[*********************100%%**********************]  1 of 1 completed\n",
      "[*********************100%%**********************]  1 of 1 completed\n",
      "[*********************100%%**********************]  1 of 1 completed\n"
     ]
    }
   ],
   "source": [
    "# Example usage\n",
    "if __name__ == \"__main__\":\n",
    "    # Define tickers and date range\n",
    "    tickers = ['AAPL', 'TSLA', 'OXY']\n",
    "    start_date = '2023-01-01'\n",
    "    end_date = '2024-01-01'\n",
    "\n",
    "    # Fetch data for each ticker\n",
    "    data_dict = {}\n",
    "    for ticker in tickers:\n",
    "        data = yf.download(ticker, start=start_date, end=end_date)\n",
    "        data = data[['Close']].rename(columns={'Close': ticker})\n",
    "        data_dict[ticker] = data\n",
    "\n",
    "    # Combine data into a single DataFrame\n",
    "    data = pd.concat(data_dict.values(), axis=1)\n",
    "\n",
    "    # Example strategies\n",
    "    strategies = [MovingAverageStrategy(name=\"ShortMovingAverageStrategy\", data=data, short_window=7, long_window=21), MovingAverageStrategy(name=\"LongMovingAverageStrategy\", data=data, short_window=20, long_window=60)]\n",
    "\n",
    "    # Initialize backtest\n",
    "    backtest = Backtest(base_data=data, strategies=strategies, weights={\"ShortMovingAverageStrategy\": 0.5, \"LongMovingAverageStrategy\": 0.5})"
   ]
  },
  {
   "cell_type": "code",
   "execution_count": 7,
   "metadata": {},
   "outputs": [
    {
     "name": "stdout",
     "output_type": "stream",
     "text": [
      "Backtest results exported to test_file.xlsx\n"
     ]
    }
   ],
   "source": [
    "backtest.export_excel('test_file.xlsx')"
   ]
  },
  {
   "cell_type": "code",
   "execution_count": 8,
   "metadata": {},
   "outputs": [
    {
     "data": {
      "application/vnd.plotly.v1+json": {
       "config": {
        "plotlyServerURL": "https://plot.ly"
       },
       "data": [
        {
         "hovertemplate": "book=LongMovingAverageStrategy<br>time=%{x}<br>value=%{y}<extra></extra>",
         "legendgroup": "LongMovingAverageStrategy",
         "line": {
          "color": "#636efa",
          "dash": "solid"
         },
         "marker": {
          "symbol": "circle"
         },
         "mode": "lines",
         "name": "LongMovingAverageStrategy",
         "orientation": "v",
         "showlegend": true,
         "type": "scatter",
         "x": [
          "2023-01-06T00:00:00",
          "2023-01-09T00:00:00",
          "2023-01-10T00:00:00",
          "2023-01-11T00:00:00",
          "2023-01-12T00:00:00",
          "2023-01-13T00:00:00",
          "2023-01-17T00:00:00",
          "2023-01-18T00:00:00",
          "2023-01-19T00:00:00",
          "2023-01-20T00:00:00",
          "2023-01-23T00:00:00",
          "2023-01-24T00:00:00",
          "2023-01-25T00:00:00",
          "2023-01-26T00:00:00",
          "2023-01-27T00:00:00",
          "2023-01-30T00:00:00",
          "2023-01-31T00:00:00",
          "2023-02-01T00:00:00",
          "2023-02-02T00:00:00",
          "2023-02-03T00:00:00",
          "2023-02-06T00:00:00",
          "2023-02-07T00:00:00",
          "2023-02-08T00:00:00",
          "2023-02-09T00:00:00",
          "2023-02-10T00:00:00",
          "2023-02-13T00:00:00",
          "2023-02-14T00:00:00",
          "2023-02-15T00:00:00",
          "2023-02-16T00:00:00",
          "2023-02-17T00:00:00",
          "2023-02-21T00:00:00",
          "2023-02-22T00:00:00",
          "2023-02-23T00:00:00",
          "2023-02-24T00:00:00",
          "2023-02-27T00:00:00",
          "2023-02-28T00:00:00",
          "2023-03-01T00:00:00",
          "2023-03-02T00:00:00",
          "2023-03-03T00:00:00",
          "2023-03-06T00:00:00",
          "2023-03-07T00:00:00",
          "2023-03-08T00:00:00",
          "2023-03-09T00:00:00",
          "2023-03-10T00:00:00",
          "2023-03-13T00:00:00",
          "2023-03-14T00:00:00",
          "2023-03-15T00:00:00",
          "2023-03-16T00:00:00",
          "2023-03-17T00:00:00",
          "2023-03-20T00:00:00",
          "2023-03-21T00:00:00",
          "2023-03-22T00:00:00",
          "2023-03-23T00:00:00",
          "2023-03-24T00:00:00",
          "2023-03-27T00:00:00",
          "2023-03-28T00:00:00",
          "2023-03-29T00:00:00",
          "2023-03-30T00:00:00",
          "2023-03-31T00:00:00",
          "2023-04-03T00:00:00",
          "2023-04-04T00:00:00",
          "2023-04-05T00:00:00",
          "2023-04-06T00:00:00",
          "2023-04-10T00:00:00",
          "2023-04-11T00:00:00",
          "2023-04-12T00:00:00",
          "2023-04-13T00:00:00",
          "2023-04-14T00:00:00",
          "2023-04-17T00:00:00",
          "2023-04-18T00:00:00",
          "2023-04-19T00:00:00",
          "2023-04-20T00:00:00",
          "2023-04-21T00:00:00",
          "2023-04-24T00:00:00",
          "2023-04-25T00:00:00",
          "2023-04-26T00:00:00",
          "2023-04-27T00:00:00",
          "2023-04-28T00:00:00",
          "2023-05-01T00:00:00",
          "2023-05-02T00:00:00",
          "2023-05-03T00:00:00",
          "2023-05-04T00:00:00",
          "2023-05-05T00:00:00",
          "2023-05-08T00:00:00",
          "2023-05-09T00:00:00",
          "2023-05-10T00:00:00",
          "2023-05-11T00:00:00",
          "2023-05-12T00:00:00",
          "2023-05-15T00:00:00",
          "2023-05-16T00:00:00",
          "2023-05-17T00:00:00",
          "2023-05-18T00:00:00",
          "2023-05-19T00:00:00",
          "2023-05-22T00:00:00",
          "2023-05-23T00:00:00",
          "2023-05-24T00:00:00",
          "2023-05-25T00:00:00",
          "2023-05-26T00:00:00",
          "2023-05-30T00:00:00",
          "2023-05-31T00:00:00",
          "2023-06-01T00:00:00",
          "2023-06-02T00:00:00",
          "2023-06-05T00:00:00",
          "2023-06-06T00:00:00",
          "2023-06-07T00:00:00",
          "2023-06-08T00:00:00",
          "2023-06-09T00:00:00",
          "2023-06-12T00:00:00",
          "2023-06-13T00:00:00",
          "2023-06-14T00:00:00",
          "2023-06-15T00:00:00",
          "2023-06-16T00:00:00",
          "2023-06-20T00:00:00",
          "2023-06-21T00:00:00",
          "2023-06-22T00:00:00",
          "2023-06-23T00:00:00",
          "2023-06-26T00:00:00",
          "2023-06-27T00:00:00",
          "2023-06-28T00:00:00",
          "2023-06-29T00:00:00",
          "2023-06-30T00:00:00",
          "2023-07-03T00:00:00",
          "2023-07-05T00:00:00",
          "2023-07-06T00:00:00",
          "2023-07-07T00:00:00",
          "2023-07-10T00:00:00",
          "2023-07-11T00:00:00",
          "2023-07-12T00:00:00",
          "2023-07-13T00:00:00",
          "2023-07-14T00:00:00",
          "2023-07-17T00:00:00",
          "2023-07-18T00:00:00",
          "2023-07-19T00:00:00",
          "2023-07-20T00:00:00",
          "2023-07-21T00:00:00",
          "2023-07-24T00:00:00",
          "2023-07-25T00:00:00",
          "2023-07-26T00:00:00",
          "2023-07-27T00:00:00",
          "2023-07-28T00:00:00",
          "2023-07-31T00:00:00",
          "2023-08-01T00:00:00",
          "2023-08-02T00:00:00",
          "2023-08-03T00:00:00",
          "2023-08-04T00:00:00",
          "2023-08-07T00:00:00",
          "2023-08-08T00:00:00",
          "2023-08-09T00:00:00",
          "2023-08-10T00:00:00",
          "2023-08-11T00:00:00",
          "2023-08-14T00:00:00",
          "2023-08-15T00:00:00",
          "2023-08-16T00:00:00",
          "2023-08-17T00:00:00",
          "2023-08-18T00:00:00",
          "2023-08-21T00:00:00",
          "2023-08-22T00:00:00",
          "2023-08-23T00:00:00",
          "2023-08-24T00:00:00",
          "2023-08-25T00:00:00",
          "2023-08-28T00:00:00",
          "2023-08-29T00:00:00",
          "2023-08-30T00:00:00",
          "2023-08-31T00:00:00",
          "2023-09-01T00:00:00",
          "2023-09-05T00:00:00",
          "2023-09-06T00:00:00",
          "2023-09-07T00:00:00",
          "2023-09-08T00:00:00",
          "2023-09-11T00:00:00",
          "2023-09-12T00:00:00",
          "2023-09-13T00:00:00",
          "2023-09-14T00:00:00",
          "2023-09-15T00:00:00",
          "2023-09-18T00:00:00",
          "2023-09-19T00:00:00",
          "2023-09-20T00:00:00",
          "2023-09-21T00:00:00",
          "2023-09-22T00:00:00",
          "2023-09-25T00:00:00",
          "2023-09-26T00:00:00",
          "2023-09-27T00:00:00",
          "2023-09-28T00:00:00",
          "2023-09-29T00:00:00",
          "2023-10-02T00:00:00",
          "2023-10-03T00:00:00",
          "2023-10-04T00:00:00",
          "2023-10-05T00:00:00",
          "2023-10-06T00:00:00",
          "2023-10-09T00:00:00",
          "2023-10-10T00:00:00",
          "2023-10-11T00:00:00",
          "2023-10-12T00:00:00",
          "2023-10-13T00:00:00",
          "2023-10-16T00:00:00",
          "2023-10-17T00:00:00",
          "2023-10-18T00:00:00",
          "2023-10-19T00:00:00",
          "2023-10-20T00:00:00",
          "2023-10-23T00:00:00",
          "2023-10-24T00:00:00",
          "2023-10-25T00:00:00",
          "2023-10-26T00:00:00",
          "2023-10-27T00:00:00",
          "2023-10-30T00:00:00",
          "2023-10-31T00:00:00",
          "2023-11-01T00:00:00",
          "2023-11-02T00:00:00",
          "2023-11-03T00:00:00",
          "2023-11-06T00:00:00",
          "2023-11-07T00:00:00",
          "2023-11-08T00:00:00",
          "2023-11-09T00:00:00",
          "2023-11-10T00:00:00",
          "2023-11-13T00:00:00",
          "2023-11-14T00:00:00",
          "2023-11-15T00:00:00",
          "2023-11-16T00:00:00",
          "2023-11-17T00:00:00",
          "2023-11-20T00:00:00",
          "2023-11-21T00:00:00",
          "2023-11-22T00:00:00",
          "2023-11-24T00:00:00",
          "2023-11-27T00:00:00",
          "2023-11-28T00:00:00",
          "2023-11-29T00:00:00",
          "2023-11-30T00:00:00",
          "2023-12-01T00:00:00",
          "2023-12-04T00:00:00",
          "2023-12-05T00:00:00",
          "2023-12-06T00:00:00",
          "2023-12-07T00:00:00",
          "2023-12-08T00:00:00",
          "2023-12-11T00:00:00",
          "2023-12-12T00:00:00",
          "2023-12-13T00:00:00",
          "2023-12-14T00:00:00",
          "2023-12-15T00:00:00",
          "2023-12-18T00:00:00",
          "2023-12-19T00:00:00",
          "2023-12-20T00:00:00",
          "2023-12-21T00:00:00",
          "2023-12-22T00:00:00",
          "2023-12-26T00:00:00",
          "2023-12-27T00:00:00",
          "2023-12-28T00:00:00",
          "2023-12-29T00:00:00"
         ],
         "xaxis": "x",
         "y": [
          -88.49998474121094,
          -164.19998168945312,
          -161.50001525878906,
          -232.20008850097656,
          -251.300048828125,
          -248.89999389648438,
          -345.7001495361328,
          -308.3000946044922,
          -305.30006408691406,
          -406.2000274658203,
          -537.8000640869141,
          -532.7000427246094,
          -532.2999572753906,
          -737.4001312255859,
          -927.8999328613281,
          -762.1000671386719,
          -847.2000122070312,
          -927.6000213623047,
          -1039.8001861572266,
          -1081.400032043457,
          -1104.599952697754,
          -1184.7999572753906,
          -1195.5999755859375,
          -1238.1000900268555,
          -1159.4999694824219,
          -1156.7001342773438,
          -1312.0999908447266,
          -1348.900146484375,
          -1206.7000579833984,
          -1240.1000595092773,
          -1080.8999633789062,
          -1106.100082397461,
          -1131.100082397461,
          -1049.9001693725586,
          -1169.3000793457031,
          -1141.0001754760742,
          -1102.1000671386719,
          -995.0000381469727,
          -1124.8999786376953,
          -1117.4000549316406,
          -1025.8001708984375,
          -994.4000244140625,
          -864.900016784668,
          -842.2000885009766,
          -865.2000427246094,
          -984.5999526977539,
          -926.6000747680664,
          -1014.4001770019531,
          -960.3001022338867,
          -1020.4999923706055,
          -1195.200080871582,
          -1100.8000183105469,
          -1120.4999923706055,
          -1112.60009765625,
          -1121.6000366210938,
          -1114.7000122070312,
          -1191.6001510620117,
          -1164.000244140625,
          -1017.9002380371094,
          -1159.6002197265625,
          -1183.4001922607422,
          -1270.1002502441406,
          -1250.4002380371094,
          -1292.7002716064453,
          -1285.0003051757812,
          -1359.200210571289,
          -1250.30029296875,
          -1259.9002075195312,
          -1223.9003372192383,
          -1238.2002258300781,
          -1269.1001892089844,
          -1459.3002319335938,
          -1498.1000900268555,
          -1460.8001327514648,
          -1471.9000244140625,
          -1413.5001754760742,
          -1428.2000732421875,
          -1447.2001647949219,
          -1426.9001770019531,
          -1433.5001373291016,
          -1458.1001281738281,
          -1483.3001327514648,
          -1474.2000198364258,
          -1509.5000457763672,
          -1500.4000091552734,
          -1497.5000762939453,
          -1520.2001190185547,
          -1492.599983215332,
          -1485.6000900268555,
          -1483.5000610351562,
          -1558.5000610351562,
          -1558.5000610351562,
          -1598.700065612793,
          -1694.7000885009766,
          -1696.5001678466797,
          -1662.1000671386719,
          -1660.5000686645508,
          -1724.4001388549805,
          -1782.1001052856445,
          -1801.0000228881836,
          -1813.1001663208008,
          -1884.7001266479492,
          -1859.100112915039,
          -1826.200065612793,
          -1813.499984741211,
          -1679.800033569336,
          -1576.600112915039,
          -1492.7001571655273,
          -1404.5002365112305,
          -1414.3000793457031,
          -1402.1002197265625,
          -1363.9000701904297,
          -1214.700050354004,
          -1377.5001525878906,
          -1286.1002731323242,
          -1364.900131225586,
          -1546.300048828125,
          -1425.6000900268555,
          -1356.700210571289,
          -1351.300163269043,
          -1267.600212097168,
          -1106.2999725341797,
          -1087.7999877929688,
          -1129.6000671386719,
          -1172.0002746582031,
          -1241.8002700805664,
          -1263.8000106811523,
          -1232.6001739501953,
          -1167.0002365112305,
          -1110.1000595092773,
          -986.2000274658203,
          -967.1002197265625,
          -974.9999618530273,
          -1281.3001251220703,
          -1324.8002243041992,
          -1210.5001831054688,
          -1228.7002182006836,
          -1234.8001098632812,
          -1344.0000915527344,
          -1208.3000946044922,
          -1181.7002487182617,
          -1258.600082397461,
          -1370.2001190185547,
          -1324.8001098632812,
          -1458.1000900268555,
          -1509.8001098632812,
          -1519.3001556396484,
          -1609.9000930786133,
          -1581.4001846313477,
          -1589.0003204345703,
          -1608.5001373291016,
          -1712.2001266479492,
          -1804.6000289916992,
          -1888.000144958496,
          -1911.300048828125,
          -2086.0998916625977,
          -2127.299919128418,
          -2213.7998962402344,
          -2102.899932861328,
          -2205.799903869629,
          -2219.900016784668,
          -2441.1997985839844,
          -2471.399803161621,
          -2483.7997436523438,
          -2351.199951171875,
          -2452.2998046875,
          -2344.7999572753906,
          -2296.999969482422,
          -2266.1998748779297,
          -2543.199806213379,
          -2425.7000732421875,
          -2444.099884033203,
          -2497.000045776367,
          -2484.7000122070312,
          -2421.4999389648438,
          -2449.800033569336,
          -2390.499954223633,
          -2322.89981842041,
          -2219.9999237060547,
          -2209.099998474121,
          -2196.7001342773438,
          -2193.0999755859375,
          -2134.1000366210938,
          -2110.900115966797,
          -2148.299980163574,
          -2183.8999938964844,
          -2074.4000244140625,
          -2104.200210571289,
          -2105.4000854492188,
          -2101.199951171875,
          -2057.700080871582,
          -2084.400177001953,
          -2136.0001373291016,
          -2183.400115966797,
          -2164.1000366210938,
          -2140.6998443603516,
          -2259.000015258789,
          -2480.500030517578,
          -2523.0999755859375,
          -2501.599884033203,
          -2547.4999237060547,
          -2490.49991607666,
          -2381.7998123168945,
          -2400.0999069213867,
          -2315.799789428711,
          -2356.79988861084,
          -2432.4999237060547,
          -2616.0998916625977,
          -2618.7998580932617,
          -2625.099868774414,
          -2664.5998764038086,
          -2684.099884033203,
          -2552.2998809814453,
          -2642.899742126465,
          -2723.7999725341797,
          -2888.3999252319336,
          -2944.099769592285,
          -2858.6999130249023,
          -2872.5,
          -2869.7000885009766,
          -2929.8999786376953,
          -2847.9000854492188,
          -2873.1999588012695,
          -2878.400077819824,
          -2980.6000900268555,
          -2967.800064086914,
          -2909.600067138672,
          -2880.999984741211,
          -2856.900100708008,
          -2842.6000213623047,
          -2852.0998764038086,
          -2864.499969482422,
          -2862.7999114990234,
          -2853.000144958496,
          -2849.9000930786133,
          -2811.3001251220703,
          -2707.6000595092773,
          -2686.5000534057617,
          -2721.600112915039,
          -2673.000068664551,
          -2793.600082397461,
          -2724.2001724243164,
          -2758.300132751465,
          -2729.400215148926,
          -2676.1001586914062,
          -2743.700180053711,
          -2798.6001586914062
         ],
         "yaxis": "y"
        },
        {
         "hovertemplate": "book=ShortMovingAverageStrategy<br>time=%{x}<br>value=%{y}<extra></extra>",
         "legendgroup": "ShortMovingAverageStrategy",
         "line": {
          "color": "#EF553B",
          "dash": "solid"
         },
         "marker": {
          "symbol": "circle"
         },
         "mode": "lines",
         "name": "ShortMovingAverageStrategy",
         "orientation": "v",
         "showlegend": true,
         "type": "scatter",
         "x": [
          "2023-01-06T00:00:00",
          "2023-01-09T00:00:00",
          "2023-01-10T00:00:00",
          "2023-01-11T00:00:00",
          "2023-01-12T00:00:00",
          "2023-01-13T00:00:00",
          "2023-01-17T00:00:00",
          "2023-01-18T00:00:00",
          "2023-01-19T00:00:00",
          "2023-01-20T00:00:00",
          "2023-01-23T00:00:00",
          "2023-01-24T00:00:00",
          "2023-01-25T00:00:00",
          "2023-01-26T00:00:00",
          "2023-01-27T00:00:00",
          "2023-01-30T00:00:00",
          "2023-01-31T00:00:00",
          "2023-02-01T00:00:00",
          "2023-02-02T00:00:00",
          "2023-02-03T00:00:00",
          "2023-02-06T00:00:00",
          "2023-02-07T00:00:00",
          "2023-02-08T00:00:00",
          "2023-02-09T00:00:00",
          "2023-02-10T00:00:00",
          "2023-02-13T00:00:00",
          "2023-02-14T00:00:00",
          "2023-02-15T00:00:00",
          "2023-02-16T00:00:00",
          "2023-02-17T00:00:00",
          "2023-02-21T00:00:00",
          "2023-02-22T00:00:00",
          "2023-02-23T00:00:00",
          "2023-02-24T00:00:00",
          "2023-02-27T00:00:00",
          "2023-02-28T00:00:00",
          "2023-03-01T00:00:00",
          "2023-03-02T00:00:00",
          "2023-03-03T00:00:00",
          "2023-03-06T00:00:00",
          "2023-03-07T00:00:00",
          "2023-03-08T00:00:00",
          "2023-03-09T00:00:00",
          "2023-03-10T00:00:00",
          "2023-03-13T00:00:00",
          "2023-03-14T00:00:00",
          "2023-03-15T00:00:00",
          "2023-03-16T00:00:00",
          "2023-03-17T00:00:00",
          "2023-03-20T00:00:00",
          "2023-03-21T00:00:00",
          "2023-03-22T00:00:00",
          "2023-03-23T00:00:00",
          "2023-03-24T00:00:00",
          "2023-03-27T00:00:00",
          "2023-03-28T00:00:00",
          "2023-03-29T00:00:00",
          "2023-03-30T00:00:00",
          "2023-03-31T00:00:00",
          "2023-04-03T00:00:00",
          "2023-04-04T00:00:00",
          "2023-04-05T00:00:00",
          "2023-04-06T00:00:00",
          "2023-04-10T00:00:00",
          "2023-04-11T00:00:00",
          "2023-04-12T00:00:00",
          "2023-04-13T00:00:00",
          "2023-04-14T00:00:00",
          "2023-04-17T00:00:00",
          "2023-04-18T00:00:00",
          "2023-04-19T00:00:00",
          "2023-04-20T00:00:00",
          "2023-04-21T00:00:00",
          "2023-04-24T00:00:00",
          "2023-04-25T00:00:00",
          "2023-04-26T00:00:00",
          "2023-04-27T00:00:00",
          "2023-04-28T00:00:00",
          "2023-05-01T00:00:00",
          "2023-05-02T00:00:00",
          "2023-05-03T00:00:00",
          "2023-05-04T00:00:00",
          "2023-05-05T00:00:00",
          "2023-05-08T00:00:00",
          "2023-05-09T00:00:00",
          "2023-05-10T00:00:00",
          "2023-05-11T00:00:00",
          "2023-05-12T00:00:00",
          "2023-05-15T00:00:00",
          "2023-05-16T00:00:00",
          "2023-05-17T00:00:00",
          "2023-05-18T00:00:00",
          "2023-05-19T00:00:00",
          "2023-05-22T00:00:00",
          "2023-05-23T00:00:00",
          "2023-05-24T00:00:00",
          "2023-05-25T00:00:00",
          "2023-05-26T00:00:00",
          "2023-05-30T00:00:00",
          "2023-05-31T00:00:00",
          "2023-06-01T00:00:00",
          "2023-06-02T00:00:00",
          "2023-06-05T00:00:00",
          "2023-06-06T00:00:00",
          "2023-06-07T00:00:00",
          "2023-06-08T00:00:00",
          "2023-06-09T00:00:00",
          "2023-06-12T00:00:00",
          "2023-06-13T00:00:00",
          "2023-06-14T00:00:00",
          "2023-06-15T00:00:00",
          "2023-06-16T00:00:00",
          "2023-06-20T00:00:00",
          "2023-06-21T00:00:00",
          "2023-06-22T00:00:00",
          "2023-06-23T00:00:00",
          "2023-06-26T00:00:00",
          "2023-06-27T00:00:00",
          "2023-06-28T00:00:00",
          "2023-06-29T00:00:00",
          "2023-06-30T00:00:00",
          "2023-07-03T00:00:00",
          "2023-07-05T00:00:00",
          "2023-07-06T00:00:00",
          "2023-07-07T00:00:00",
          "2023-07-10T00:00:00",
          "2023-07-11T00:00:00",
          "2023-07-12T00:00:00",
          "2023-07-13T00:00:00",
          "2023-07-14T00:00:00",
          "2023-07-17T00:00:00",
          "2023-07-18T00:00:00",
          "2023-07-19T00:00:00",
          "2023-07-20T00:00:00",
          "2023-07-21T00:00:00",
          "2023-07-24T00:00:00",
          "2023-07-25T00:00:00",
          "2023-07-26T00:00:00",
          "2023-07-27T00:00:00",
          "2023-07-28T00:00:00",
          "2023-07-31T00:00:00",
          "2023-08-01T00:00:00",
          "2023-08-02T00:00:00",
          "2023-08-03T00:00:00",
          "2023-08-04T00:00:00",
          "2023-08-07T00:00:00",
          "2023-08-08T00:00:00",
          "2023-08-09T00:00:00",
          "2023-08-10T00:00:00",
          "2023-08-11T00:00:00",
          "2023-08-14T00:00:00",
          "2023-08-15T00:00:00",
          "2023-08-16T00:00:00",
          "2023-08-17T00:00:00",
          "2023-08-18T00:00:00",
          "2023-08-21T00:00:00",
          "2023-08-22T00:00:00",
          "2023-08-23T00:00:00",
          "2023-08-24T00:00:00",
          "2023-08-25T00:00:00",
          "2023-08-28T00:00:00",
          "2023-08-29T00:00:00",
          "2023-08-30T00:00:00",
          "2023-08-31T00:00:00",
          "2023-09-01T00:00:00",
          "2023-09-05T00:00:00",
          "2023-09-06T00:00:00",
          "2023-09-07T00:00:00",
          "2023-09-08T00:00:00",
          "2023-09-11T00:00:00",
          "2023-09-12T00:00:00",
          "2023-09-13T00:00:00",
          "2023-09-14T00:00:00",
          "2023-09-15T00:00:00",
          "2023-09-18T00:00:00",
          "2023-09-19T00:00:00",
          "2023-09-20T00:00:00",
          "2023-09-21T00:00:00",
          "2023-09-22T00:00:00",
          "2023-09-25T00:00:00",
          "2023-09-26T00:00:00",
          "2023-09-27T00:00:00",
          "2023-09-28T00:00:00",
          "2023-09-29T00:00:00",
          "2023-10-02T00:00:00",
          "2023-10-03T00:00:00",
          "2023-10-04T00:00:00",
          "2023-10-05T00:00:00",
          "2023-10-06T00:00:00",
          "2023-10-09T00:00:00",
          "2023-10-10T00:00:00",
          "2023-10-11T00:00:00",
          "2023-10-12T00:00:00",
          "2023-10-13T00:00:00",
          "2023-10-16T00:00:00",
          "2023-10-17T00:00:00",
          "2023-10-18T00:00:00",
          "2023-10-19T00:00:00",
          "2023-10-20T00:00:00",
          "2023-10-23T00:00:00",
          "2023-10-24T00:00:00",
          "2023-10-25T00:00:00",
          "2023-10-26T00:00:00",
          "2023-10-27T00:00:00",
          "2023-10-30T00:00:00",
          "2023-10-31T00:00:00",
          "2023-11-01T00:00:00",
          "2023-11-02T00:00:00",
          "2023-11-03T00:00:00",
          "2023-11-06T00:00:00",
          "2023-11-07T00:00:00",
          "2023-11-08T00:00:00",
          "2023-11-09T00:00:00",
          "2023-11-10T00:00:00",
          "2023-11-13T00:00:00",
          "2023-11-14T00:00:00",
          "2023-11-15T00:00:00",
          "2023-11-16T00:00:00",
          "2023-11-17T00:00:00",
          "2023-11-20T00:00:00",
          "2023-11-21T00:00:00",
          "2023-11-22T00:00:00",
          "2023-11-24T00:00:00",
          "2023-11-27T00:00:00",
          "2023-11-28T00:00:00",
          "2023-11-29T00:00:00",
          "2023-11-30T00:00:00",
          "2023-12-01T00:00:00",
          "2023-12-04T00:00:00",
          "2023-12-05T00:00:00",
          "2023-12-06T00:00:00",
          "2023-12-07T00:00:00",
          "2023-12-08T00:00:00",
          "2023-12-11T00:00:00",
          "2023-12-12T00:00:00",
          "2023-12-13T00:00:00",
          "2023-12-14T00:00:00",
          "2023-12-15T00:00:00",
          "2023-12-18T00:00:00",
          "2023-12-19T00:00:00",
          "2023-12-20T00:00:00",
          "2023-12-21T00:00:00",
          "2023-12-22T00:00:00",
          "2023-12-26T00:00:00",
          "2023-12-27T00:00:00",
          "2023-12-28T00:00:00",
          "2023-12-29T00:00:00"
         ],
         "xaxis": "x",
         "y": [
          -88.49998474121094,
          -164.19998168945312,
          -161.50001525878906,
          -232.20008850097656,
          -251.300048828125,
          -248.89999389648438,
          -345.7001495361328,
          -308.3000946044922,
          -305.30006408691406,
          -406.2000274658203,
          -537.8000640869141,
          -532.7000427246094,
          -532.2999572753906,
          -737.4001312255859,
          -927.8999328613281,
          -762.1000671386719,
          -847.2000122070312,
          -927.6000213623047,
          -815.3998565673828,
          -773.8000106811523,
          -756.8000411987305,
          -737.6000213623047,
          -713.4000396728516,
          -656.299934387207,
          -783.4999847412109,
          -768.8999176025391,
          -645.0999450683594,
          -539.4998931884766,
          -673.699951171875,
          -604.8999404907227,
          -745.9000396728516,
          -692.6998901367188,
          -683.699951171875,
          -760.0998306274414,
          -640.2999114990234,
          -650.3999710083008,
          -670.2999114990234,
          -800.6000900268555,
          -792.7000427246094,
          -864.8000335693359,
          -773.2001495361328,
          -741.8000030517578,
          -612.2999954223633,
          -589.6000671386719,
          -573.1999969482422,
          -650.2000045776367,
          -584.1999435424805,
          -614.8000335693359,
          -577.700080871582,
          -589.9000930786133,
          -727.0000839233398,
          -661.5999603271484,
          -659.3001174926758,
          -625.0000762939453,
          -673.4000396728516,
          -731.5000152587891,
          -652.1998977661133,
          -620,
          -471.6999816894531,
          -558.3999633789062,
          -589.1999053955078,
          -681.1000061035156,
          -691.9999694824219,
          -713.3000946044922,
          -700,
          -764.8000335693359,
          -764.5001220703125,
          -761.9000244140625,
          -797.500114440918,
          -757.2000885009766,
          -713.7000274658203,
          -551.9002532958984,
          -590.7001113891602,
          -553.4001541137695,
          -535.9001159667969,
          -456.1001968383789,
          -477.2001647949219,
          -515.2001953125,
          -487.7001953125,
          -471.70021057128906,
          -474.90020751953125,
          -494.70020294189453,
          -525.4000473022461,
          -526.1000823974609,
          -517.0000457763672,
          -471.9001007080078,
          -516.2001800537109,
          -488.6000442504883,
          -514.1999435424805,
          -508.699951171875,
          -436.9000244140625,
          -376.300048828125,
          -351.5000534057617,
          -272.90016174316406,
          -336.70005798339844,
          -359.7001647949219,
          -326.7000198364258,
          -216.60015106201172,
          -114.50000762939453,
          -96.60015106201172,
          -27.70008087158203,
          61.099891662597656,
          80.89996337890625,
          113.80001068115234,
          138.50013732910156,
          265.6000518798828,
          360.99998474121094,
          442.29991912841797,
          522.0998764038086,
          506.300048828125,
          517.4998474121094,
          550.3000640869141,
          699.5000839233398,
          536.6999816894531,
          628.0998611450195,
          549.3000030517578,
          367.90008544921875,
          488.6000442504883,
          557.4999237060547,
          562.8999710083008,
          646.5999221801758,
          807.9001617431641,
          826.400146484375,
          784.6000671386719,
          742.1998596191406,
          674.1998672485352,
          689.2000961303711,
          735.7999420166016,
          803.7998580932617,
          819.5000839233398,
          941.6001129150391,
          976.4999389648438,
          970.2001571655273,
          669.8999786376953,
          631.9999313354492,
          746.2999725341797,
          728.0999374389648,
          722.0000457763672,
          612.8000640869141,
          533.900146484375,
          540.7001876831055,
          591.0000610351562,
          618.6001586914062,
          559.8000335693359,
          535.7001876831055,
          532.2002410888672,
          538.7002563476562,
          630.5002212524414,
          600.400276184082,
          650.2003479003906,
          655.1002502441406,
          727.600212097168,
          800.000114440918,
          895.6002426147461,
          937.1001434326172,
          762.3003005981445,
          721.1002731323242,
          634.6002960205078,
          754.9002838134766,
          642.2002792358398,
          620.1001358032227,
          395.60035705566406,
          360.8003616333008,
          373.20030212402344,
          240.6005096435547,
          341.7003631591797,
          234.2005157470703,
          166.40052795410156,
          149.8004150390625,
          398.00037384033203,
          332.30064392089844,
          348.5004425048828,
          390.40069580078125,
          369.7008514404297,
          250.7006072998047,
          246.800537109375,
          227.90054321289062,
          157.70069122314453,
          44.20074462890625,
          55.100669860839844,
          67.50053405761719,
          94.50065612792969,
          30.300521850585938,
          -3.2994842529296875,
          -16.699485778808594,
          45.90065002441406,
          -88.79951477050781,
          -83.99932861328125,
          -134.3994903564453,
          -168.59962463378906,
          -200.09937286376953,
          -173.39927673339844,
          -204.19921875,
          -311.7992401123047,
          -295.09925842285156,
          -299.8992919921875,
          -424.9993896484375,
          -654.8992156982422,
          -612.2992706298828,
          -635.5992889404297,
          -678.4992980957031,
          -606.6992568969727,
          -497.99915313720703,
          -537.0992660522461,
          -463.9991760253906,
          -504.99927520751953,
          -580.6993103027344,
          -764.2992782592773,
          -766.9992446899414,
          -773.2992553710938,
          -812.7992630004883,
          -810.8994293212891,
          -688.6993408203125,
          -699.499397277832,
          -812.3994445800781,
          -650.1994705200195,
          -585.8996200561523,
          -651.4995193481445,
          -651.0994720458984,
          -622.2994995117188,
          -570.4995727539062,
          -628.2994842529297,
          -628.7995529174805,
          -621.3995742797852,
          -510.79959869384766,
          -549.599609375,
          -572.5995635986328,
          -568.9994812011719,
          -609.8995971679688,
          -532.7995300292969,
          -529.2995071411133,
          -476.2995147705078,
          -450.5995178222656,
          -522.7995681762695,
          -519.6995162963867,
          -481.09954833984375,
          -377.3994827270508,
          -356.29947662353516,
          -391.3995361328125,
          -342.7994918823242,
          -463.3995056152344,
          -393.99959564208984,
          -420.69950103759766,
          -379.1996383666992,
          -333.8995361328125,
          -422.89955139160156,
          -482.99957275390625
         ],
         "yaxis": "y"
        }
       ],
       "layout": {
        "legend": {
         "title": {
          "text": "book"
         },
         "tracegroupgap": 0
        },
        "margin": {
         "t": 60
        },
        "template": {
         "data": {
          "bar": [
           {
            "error_x": {
             "color": "#2a3f5f"
            },
            "error_y": {
             "color": "#2a3f5f"
            },
            "marker": {
             "line": {
              "color": "#E5ECF6",
              "width": 0.5
             },
             "pattern": {
              "fillmode": "overlay",
              "size": 10,
              "solidity": 0.2
             }
            },
            "type": "bar"
           }
          ],
          "barpolar": [
           {
            "marker": {
             "line": {
              "color": "#E5ECF6",
              "width": 0.5
             },
             "pattern": {
              "fillmode": "overlay",
              "size": 10,
              "solidity": 0.2
             }
            },
            "type": "barpolar"
           }
          ],
          "carpet": [
           {
            "aaxis": {
             "endlinecolor": "#2a3f5f",
             "gridcolor": "white",
             "linecolor": "white",
             "minorgridcolor": "white",
             "startlinecolor": "#2a3f5f"
            },
            "baxis": {
             "endlinecolor": "#2a3f5f",
             "gridcolor": "white",
             "linecolor": "white",
             "minorgridcolor": "white",
             "startlinecolor": "#2a3f5f"
            },
            "type": "carpet"
           }
          ],
          "choropleth": [
           {
            "colorbar": {
             "outlinewidth": 0,
             "ticks": ""
            },
            "type": "choropleth"
           }
          ],
          "contour": [
           {
            "colorbar": {
             "outlinewidth": 0,
             "ticks": ""
            },
            "colorscale": [
             [
              0,
              "#0d0887"
             ],
             [
              0.1111111111111111,
              "#46039f"
             ],
             [
              0.2222222222222222,
              "#7201a8"
             ],
             [
              0.3333333333333333,
              "#9c179e"
             ],
             [
              0.4444444444444444,
              "#bd3786"
             ],
             [
              0.5555555555555556,
              "#d8576b"
             ],
             [
              0.6666666666666666,
              "#ed7953"
             ],
             [
              0.7777777777777778,
              "#fb9f3a"
             ],
             [
              0.8888888888888888,
              "#fdca26"
             ],
             [
              1,
              "#f0f921"
             ]
            ],
            "type": "contour"
           }
          ],
          "contourcarpet": [
           {
            "colorbar": {
             "outlinewidth": 0,
             "ticks": ""
            },
            "type": "contourcarpet"
           }
          ],
          "heatmap": [
           {
            "colorbar": {
             "outlinewidth": 0,
             "ticks": ""
            },
            "colorscale": [
             [
              0,
              "#0d0887"
             ],
             [
              0.1111111111111111,
              "#46039f"
             ],
             [
              0.2222222222222222,
              "#7201a8"
             ],
             [
              0.3333333333333333,
              "#9c179e"
             ],
             [
              0.4444444444444444,
              "#bd3786"
             ],
             [
              0.5555555555555556,
              "#d8576b"
             ],
             [
              0.6666666666666666,
              "#ed7953"
             ],
             [
              0.7777777777777778,
              "#fb9f3a"
             ],
             [
              0.8888888888888888,
              "#fdca26"
             ],
             [
              1,
              "#f0f921"
             ]
            ],
            "type": "heatmap"
           }
          ],
          "heatmapgl": [
           {
            "colorbar": {
             "outlinewidth": 0,
             "ticks": ""
            },
            "colorscale": [
             [
              0,
              "#0d0887"
             ],
             [
              0.1111111111111111,
              "#46039f"
             ],
             [
              0.2222222222222222,
              "#7201a8"
             ],
             [
              0.3333333333333333,
              "#9c179e"
             ],
             [
              0.4444444444444444,
              "#bd3786"
             ],
             [
              0.5555555555555556,
              "#d8576b"
             ],
             [
              0.6666666666666666,
              "#ed7953"
             ],
             [
              0.7777777777777778,
              "#fb9f3a"
             ],
             [
              0.8888888888888888,
              "#fdca26"
             ],
             [
              1,
              "#f0f921"
             ]
            ],
            "type": "heatmapgl"
           }
          ],
          "histogram": [
           {
            "marker": {
             "pattern": {
              "fillmode": "overlay",
              "size": 10,
              "solidity": 0.2
             }
            },
            "type": "histogram"
           }
          ],
          "histogram2d": [
           {
            "colorbar": {
             "outlinewidth": 0,
             "ticks": ""
            },
            "colorscale": [
             [
              0,
              "#0d0887"
             ],
             [
              0.1111111111111111,
              "#46039f"
             ],
             [
              0.2222222222222222,
              "#7201a8"
             ],
             [
              0.3333333333333333,
              "#9c179e"
             ],
             [
              0.4444444444444444,
              "#bd3786"
             ],
             [
              0.5555555555555556,
              "#d8576b"
             ],
             [
              0.6666666666666666,
              "#ed7953"
             ],
             [
              0.7777777777777778,
              "#fb9f3a"
             ],
             [
              0.8888888888888888,
              "#fdca26"
             ],
             [
              1,
              "#f0f921"
             ]
            ],
            "type": "histogram2d"
           }
          ],
          "histogram2dcontour": [
           {
            "colorbar": {
             "outlinewidth": 0,
             "ticks": ""
            },
            "colorscale": [
             [
              0,
              "#0d0887"
             ],
             [
              0.1111111111111111,
              "#46039f"
             ],
             [
              0.2222222222222222,
              "#7201a8"
             ],
             [
              0.3333333333333333,
              "#9c179e"
             ],
             [
              0.4444444444444444,
              "#bd3786"
             ],
             [
              0.5555555555555556,
              "#d8576b"
             ],
             [
              0.6666666666666666,
              "#ed7953"
             ],
             [
              0.7777777777777778,
              "#fb9f3a"
             ],
             [
              0.8888888888888888,
              "#fdca26"
             ],
             [
              1,
              "#f0f921"
             ]
            ],
            "type": "histogram2dcontour"
           }
          ],
          "mesh3d": [
           {
            "colorbar": {
             "outlinewidth": 0,
             "ticks": ""
            },
            "type": "mesh3d"
           }
          ],
          "parcoords": [
           {
            "line": {
             "colorbar": {
              "outlinewidth": 0,
              "ticks": ""
             }
            },
            "type": "parcoords"
           }
          ],
          "pie": [
           {
            "automargin": true,
            "type": "pie"
           }
          ],
          "scatter": [
           {
            "fillpattern": {
             "fillmode": "overlay",
             "size": 10,
             "solidity": 0.2
            },
            "type": "scatter"
           }
          ],
          "scatter3d": [
           {
            "line": {
             "colorbar": {
              "outlinewidth": 0,
              "ticks": ""
             }
            },
            "marker": {
             "colorbar": {
              "outlinewidth": 0,
              "ticks": ""
             }
            },
            "type": "scatter3d"
           }
          ],
          "scattercarpet": [
           {
            "marker": {
             "colorbar": {
              "outlinewidth": 0,
              "ticks": ""
             }
            },
            "type": "scattercarpet"
           }
          ],
          "scattergeo": [
           {
            "marker": {
             "colorbar": {
              "outlinewidth": 0,
              "ticks": ""
             }
            },
            "type": "scattergeo"
           }
          ],
          "scattergl": [
           {
            "marker": {
             "colorbar": {
              "outlinewidth": 0,
              "ticks": ""
             }
            },
            "type": "scattergl"
           }
          ],
          "scattermapbox": [
           {
            "marker": {
             "colorbar": {
              "outlinewidth": 0,
              "ticks": ""
             }
            },
            "type": "scattermapbox"
           }
          ],
          "scatterpolar": [
           {
            "marker": {
             "colorbar": {
              "outlinewidth": 0,
              "ticks": ""
             }
            },
            "type": "scatterpolar"
           }
          ],
          "scatterpolargl": [
           {
            "marker": {
             "colorbar": {
              "outlinewidth": 0,
              "ticks": ""
             }
            },
            "type": "scatterpolargl"
           }
          ],
          "scatterternary": [
           {
            "marker": {
             "colorbar": {
              "outlinewidth": 0,
              "ticks": ""
             }
            },
            "type": "scatterternary"
           }
          ],
          "surface": [
           {
            "colorbar": {
             "outlinewidth": 0,
             "ticks": ""
            },
            "colorscale": [
             [
              0,
              "#0d0887"
             ],
             [
              0.1111111111111111,
              "#46039f"
             ],
             [
              0.2222222222222222,
              "#7201a8"
             ],
             [
              0.3333333333333333,
              "#9c179e"
             ],
             [
              0.4444444444444444,
              "#bd3786"
             ],
             [
              0.5555555555555556,
              "#d8576b"
             ],
             [
              0.6666666666666666,
              "#ed7953"
             ],
             [
              0.7777777777777778,
              "#fb9f3a"
             ],
             [
              0.8888888888888888,
              "#fdca26"
             ],
             [
              1,
              "#f0f921"
             ]
            ],
            "type": "surface"
           }
          ],
          "table": [
           {
            "cells": {
             "fill": {
              "color": "#EBF0F8"
             },
             "line": {
              "color": "white"
             }
            },
            "header": {
             "fill": {
              "color": "#C8D4E3"
             },
             "line": {
              "color": "white"
             }
            },
            "type": "table"
           }
          ]
         },
         "layout": {
          "annotationdefaults": {
           "arrowcolor": "#2a3f5f",
           "arrowhead": 0,
           "arrowwidth": 1
          },
          "autotypenumbers": "strict",
          "coloraxis": {
           "colorbar": {
            "outlinewidth": 0,
            "ticks": ""
           }
          },
          "colorscale": {
           "diverging": [
            [
             0,
             "#8e0152"
            ],
            [
             0.1,
             "#c51b7d"
            ],
            [
             0.2,
             "#de77ae"
            ],
            [
             0.3,
             "#f1b6da"
            ],
            [
             0.4,
             "#fde0ef"
            ],
            [
             0.5,
             "#f7f7f7"
            ],
            [
             0.6,
             "#e6f5d0"
            ],
            [
             0.7,
             "#b8e186"
            ],
            [
             0.8,
             "#7fbc41"
            ],
            [
             0.9,
             "#4d9221"
            ],
            [
             1,
             "#276419"
            ]
           ],
           "sequential": [
            [
             0,
             "#0d0887"
            ],
            [
             0.1111111111111111,
             "#46039f"
            ],
            [
             0.2222222222222222,
             "#7201a8"
            ],
            [
             0.3333333333333333,
             "#9c179e"
            ],
            [
             0.4444444444444444,
             "#bd3786"
            ],
            [
             0.5555555555555556,
             "#d8576b"
            ],
            [
             0.6666666666666666,
             "#ed7953"
            ],
            [
             0.7777777777777778,
             "#fb9f3a"
            ],
            [
             0.8888888888888888,
             "#fdca26"
            ],
            [
             1,
             "#f0f921"
            ]
           ],
           "sequentialminus": [
            [
             0,
             "#0d0887"
            ],
            [
             0.1111111111111111,
             "#46039f"
            ],
            [
             0.2222222222222222,
             "#7201a8"
            ],
            [
             0.3333333333333333,
             "#9c179e"
            ],
            [
             0.4444444444444444,
             "#bd3786"
            ],
            [
             0.5555555555555556,
             "#d8576b"
            ],
            [
             0.6666666666666666,
             "#ed7953"
            ],
            [
             0.7777777777777778,
             "#fb9f3a"
            ],
            [
             0.8888888888888888,
             "#fdca26"
            ],
            [
             1,
             "#f0f921"
            ]
           ]
          },
          "colorway": [
           "#636efa",
           "#EF553B",
           "#00cc96",
           "#ab63fa",
           "#FFA15A",
           "#19d3f3",
           "#FF6692",
           "#B6E880",
           "#FF97FF",
           "#FECB52"
          ],
          "font": {
           "color": "#2a3f5f"
          },
          "geo": {
           "bgcolor": "white",
           "lakecolor": "white",
           "landcolor": "#E5ECF6",
           "showlakes": true,
           "showland": true,
           "subunitcolor": "white"
          },
          "hoverlabel": {
           "align": "left"
          },
          "hovermode": "closest",
          "mapbox": {
           "style": "light"
          },
          "paper_bgcolor": "white",
          "plot_bgcolor": "#E5ECF6",
          "polar": {
           "angularaxis": {
            "gridcolor": "white",
            "linecolor": "white",
            "ticks": ""
           },
           "bgcolor": "#E5ECF6",
           "radialaxis": {
            "gridcolor": "white",
            "linecolor": "white",
            "ticks": ""
           }
          },
          "scene": {
           "xaxis": {
            "backgroundcolor": "#E5ECF6",
            "gridcolor": "white",
            "gridwidth": 2,
            "linecolor": "white",
            "showbackground": true,
            "ticks": "",
            "zerolinecolor": "white"
           },
           "yaxis": {
            "backgroundcolor": "#E5ECF6",
            "gridcolor": "white",
            "gridwidth": 2,
            "linecolor": "white",
            "showbackground": true,
            "ticks": "",
            "zerolinecolor": "white"
           },
           "zaxis": {
            "backgroundcolor": "#E5ECF6",
            "gridcolor": "white",
            "gridwidth": 2,
            "linecolor": "white",
            "showbackground": true,
            "ticks": "",
            "zerolinecolor": "white"
           }
          },
          "shapedefaults": {
           "line": {
            "color": "#2a3f5f"
           }
          },
          "ternary": {
           "aaxis": {
            "gridcolor": "white",
            "linecolor": "white",
            "ticks": ""
           },
           "baxis": {
            "gridcolor": "white",
            "linecolor": "white",
            "ticks": ""
           },
           "bgcolor": "#E5ECF6",
           "caxis": {
            "gridcolor": "white",
            "linecolor": "white",
            "ticks": ""
           }
          },
          "title": {
           "x": 0.05
          },
          "xaxis": {
           "automargin": true,
           "gridcolor": "white",
           "linecolor": "white",
           "ticks": "",
           "title": {
            "standoff": 15
           },
           "zerolinecolor": "white",
           "zerolinewidth": 2
          },
          "yaxis": {
           "automargin": true,
           "gridcolor": "white",
           "linecolor": "white",
           "ticks": "",
           "title": {
            "standoff": 15
           },
           "zerolinecolor": "white",
           "zerolinewidth": 2
          }
         }
        },
        "xaxis": {
         "anchor": "y",
         "domain": [
          0,
          1
         ],
         "title": {
          "text": "time"
         }
        },
        "yaxis": {
         "anchor": "x",
         "domain": [
          0,
          1
         ],
         "title": {
          "text": "value"
         }
        }
       }
      }
     },
     "metadata": {},
     "output_type": "display_data"
    }
   ],
   "source": [
    "px.line(backtest.compute_cumulative_pnl_book())"
   ]
  },
  {
   "cell_type": "markdown",
   "metadata": {},
   "source": [
    "Display"
   ]
  },
  {
   "cell_type": "code",
   "execution_count": 12,
   "metadata": {},
   "outputs": [],
   "source": [
    "class DisplayBacktest:\n",
    "    def __init__(self, backtest: 'Backtest'):\n",
    "        \"\"\"\n",
    "        Initialize a DisplayBacktest instance.\n",
    "\n",
    "        Parameters:\n",
    "        backtest (Backtest): The backtest instance to be visualized.\n",
    "        \"\"\"\n",
    "        self.backtest = backtest\n",
    "\n",
    "    def plot_book(self, book: str, exclude_non_traded: bool = False) -> None:\n",
    "        \"\"\"\n",
    "        Plot the prices, positions, and trades for a specific book.\n",
    "\n",
    "        Parameters:\n",
    "        book (str): The book to plot.\n",
    "        exclude_non_traded (bool): Whether to exclude non-traded tickers.\n",
    "        \"\"\"\n",
    "        # Create fig with secondary y-axis\n",
    "        fig = make_subplots(specs=[[{\"secondary_y\": True}]])\n",
    "\n",
    "        # Select tickers to plot\n",
    "        tickers = self.backtest.base_data.columns if not exclude_non_traded else self.backtest.trades[self.backtest.trades['book'] == book]['ticker'].unique().tolist()\n",
    "\n",
    "        # Plot prices & positions\n",
    "        for ticker in tickers:\n",
    "            # Prices\n",
    "            fig.add_trace(go.Scatter(x=self.backtest.base_data[ticker].index,\n",
    "                                     y=self.backtest.base_data[ticker],\n",
    "                                     mode='lines',\n",
    "                                     name=f'Price {ticker}',\n",
    "                                     legendgroup=ticker,\n",
    "                                     hoverinfo='name+y'),\n",
    "                          secondary_y=False)\n",
    "\n",
    "        # Add scatter plots for trades\n",
    "        trades_long = self.backtest.trades[self.backtest.trades['units'] > 0]\n",
    "        trades_short = self.backtest.trades[self.backtest.trades['units'] < 0]\n",
    "\n",
    "        for ticker in tickers:\n",
    "            ticker_trades_long = trades_long[(trades_long['ticker'] == ticker) & (trades_long['book'] == book)]\n",
    "            ticker_trades_short = trades_short[(trades_short['ticker'] == ticker) & (trades_short['book'] == book)]\n",
    "\n",
    "            fig.add_trace(go.Scatter(x=ticker_trades_long['time'],\n",
    "                                     y=ticker_trades_long['price'],\n",
    "                                     mode='markers',\n",
    "                                     marker=dict(symbol='arrow-up', color='green', size=10),\n",
    "                                     name=f'Long Trades {ticker}',\n",
    "                                     legendgroup=ticker,\n",
    "                                     hoverinfo='name+y'),\n",
    "                          secondary_y=False)\n",
    "\n",
    "            fig.add_trace(go.Scatter(x=ticker_trades_short['time'],\n",
    "                                     y=ticker_trades_short['price'],\n",
    "                                     mode='markers',\n",
    "                                     marker=dict(symbol='arrow-down', color='red', size=10),\n",
    "                                     name=f'Short Trades {ticker}',\n",
    "                                     legendgroup=ticker,\n",
    "                                     hoverinfo='name+y'),\n",
    "                          secondary_y=False)\n",
    "\n",
    "        fig.update_layout(title=f'{book}',\n",
    "                          xaxis_title='Time',\n",
    "                          yaxis_title='Price',\n",
    "                          yaxis2_title='Position')\n",
    "\n",
    "        fig.show()\n",
    "\n",
    "    def plot_cumulative_pnl_per_book(self) -> None:\n",
    "        \"\"\"\n",
    "        Plot the cumulative PnL for each book.\n",
    "        \"\"\"\n",
    "        cumulative_pnl_book = self.backtest.compute_cumulative_pnl_book().reset_index()\n",
    "        fig = go.Figure()\n",
    "\n",
    "        for book in cumulative_pnl_book.columns[1:]:\n",
    "            fig.add_trace(go.Scatter(x=cumulative_pnl_book['time'],\n",
    "                                     y=cumulative_pnl_book[book],\n",
    "                                     mode='lines',\n",
    "                                     name=f'Book {book}'))\n",
    "\n",
    "        fig.update_layout(title='Cumulative PnL per Book',\n",
    "                          xaxis_title='Time',\n",
    "                          yaxis_title='Cumulative PnL')\n",
    "        fig.show()\n",
    "\n",
    "    def plot_cumulative_pnl(self) -> None:\n",
    "        \"\"\"\n",
    "        Plot the cumulative PnL.\n",
    "        \"\"\"\n",
    "        cumulative_pnl = self.backtest.compute_cumulative_pnl().reset_index()\n",
    "        fig = go.Figure()\n",
    "\n",
    "        fig.add_trace(go.Scatter(x=cumulative_pnl['time'],\n",
    "                                 y=cumulative_pnl['pnl'],\n",
    "                                 mode='lines',\n",
    "                                 name='Cumulative PnL'))\n",
    "\n",
    "        fig.update_layout(title='Cumulative PnL',\n",
    "                          xaxis_title='Time',\n",
    "                          yaxis_title='Cumulative PnL')\n",
    "        fig.show()\n",
    "\n",
    "    def plot_individual_pnl(self) -> None:\n",
    "        \"\"\"\n",
    "        Plot the individual PnL for each book.\n",
    "        \"\"\"\n",
    "        pnl = self.backtest.pnl.reset_index()\n",
    "        fig = go.Figure()\n",
    "\n",
    "        for book in pnl['book'].unique():\n",
    "            book_data = pnl[pnl['book'] == book]\n",
    "            fig.add_trace(go.Scatter(x=book_data['time'],\n",
    "                                     y=book_data['pnl'],\n",
    "                                     mode='lines',\n",
    "                                     name=f'Book {book}'))\n",
    "\n",
    "        fig.update_layout(title='Individual PnL per Book',\n",
    "                          xaxis_title='Time',\n",
    "                          yaxis_title='PnL')\n",
    "        fig.show()\n",
    "\n",
    "# Example of usage:\n",
    "# display = DisplayBacktest(backtest)\n",
    "# display.plot_book('ShortMovingAverageStrategy')\n",
    "# display.plot_cumulative_pnl_per_book()\n",
    "# display.plot_cumulative_pnl()\n",
    "# display.plot_individual_pnl()"
   ]
  },
  {
   "cell_type": "code",
   "execution_count": null,
   "metadata": {},
   "outputs": [],
   "source": []
  }
 ],
 "metadata": {
  "kernelspec": {
   "display_name": "base_git",
   "language": "python",
   "name": "python3"
  },
  "language_info": {
   "codemirror_mode": {
    "name": "ipython",
    "version": 3
   },
   "file_extension": ".py",
   "mimetype": "text/x-python",
   "name": "python",
   "nbconvert_exporter": "python",
   "pygments_lexer": "ipython3",
   "version": "3.8.10"
  }
 },
 "nbformat": 4,
 "nbformat_minor": 2
}
